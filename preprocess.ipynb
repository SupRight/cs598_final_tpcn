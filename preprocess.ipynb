{
 "cells": [
  {
   "cell_type": "code",
   "execution_count": 1,
   "id": "eb39d118",
   "metadata": {},
   "outputs": [],
   "source": [
    "import pandas as pd\n",
    "from itertools import islice\n",
    "import numpy as np\n",
    "import json\n",
    "import os\n"
   ]
  },
  {
   "cell_type": "code",
   "execution_count": 2,
   "id": "e3096b68",
   "metadata": {},
   "outputs": [],
   "source": [
    "import pandas as pd\n",
    "from itertools import islice\n",
    "import numpy as np\n",
    "import json\n",
    "import os\n",
    "\n",
    "def reconfigure_timeseries(timeseries, offset_column, feature_column=None, test=False):\n",
    "    if test:\n",
    "        timeseries = timeseries.iloc[300000:5000000]\n",
    "    timeseries.set_index(['patientunitstayid', pd.to_timedelta(timeseries[offset_column], unit='T')], inplace=True)\n",
    "    timeseries.drop(columns=offset_column, inplace=True)\n",
    "    if feature_column is not None:\n",
    "        timeseries = timeseries.pivot_table(columns=feature_column, index=timeseries.index)\n",
    "    # convert index to multi-index with both patients and timedelta stamp\n",
    "    timeseries.index = pd.MultiIndex.from_tuples(timeseries.index, names=['patient', 'time'])\n",
    "    return timeseries\n",
    "\n",
    "def resample_and_mask(timeseries, eICU_path, header, mask_decay=True, decay_rate=4/3, test=False,\n",
    "                       verbose=False, length_limit=24*14):\n",
    "    if test:\n",
    "        mask_decay = False\n",
    "        verbose = True\n",
    "    if verbose:\n",
    "        print('Resampling to 1 hour intervals...')\n",
    "    # take the mean of any duplicate index entries for unstacking\n",
    "    timeseries = timeseries.groupby(level=[0, 1]).mean()\n",
    "\n",
    "    timeseries.reset_index(level=1, inplace=True)\n",
    "    timeseries.time = timeseries.time.dt.ceil(freq='H')\n",
    "    timeseries.set_index('time', append=True, inplace=True)\n",
    "    timeseries.reset_index(level=0, inplace=True)\n",
    "    resampled = timeseries.groupby('patient').resample('H', closed='right', label='right').mean().drop(columns='patient')\n",
    "    del (timeseries)\n",
    "\n",
    "    def apply_mask_decay(mask_bool):\n",
    "        mask = mask_bool.astype(int)\n",
    "        mask.replace({0: np.nan}, inplace=True)  # so that forward fill works\n",
    "        inv_mask_bool = ~mask_bool\n",
    "        count_non_measurements = inv_mask_bool.cumsum() - \\\n",
    "                                 inv_mask_bool.cumsum().where(mask_bool).ffill().fillna(0)\n",
    "        decay_mask = mask.ffill().fillna(0) / (count_non_measurements * decay_rate).replace(0, 1)\n",
    "        return decay_mask\n",
    "\n",
    "    # store which values had to be imputed\n",
    "    if mask_decay:\n",
    "        if verbose:\n",
    "            print('Calculating mask decay features...')\n",
    "        mask_bool = resampled.notnull()\n",
    "        mask = mask_bool.groupby('patient').transform(apply_mask_decay)\n",
    "        del (mask_bool)\n",
    "    else:\n",
    "        if verbose:\n",
    "            print('Calculating binary mask features...')\n",
    "        mask = resampled.notnull()\n",
    "        mask = mask.astype(int)\n",
    "\n",
    "    if verbose:\n",
    "        print('Filling missing data forwards...')\n",
    "    # carry forward missing values (note they will still be 0 in the nulls table)\n",
    "    resampled = resampled.fillna(method='ffill')\n",
    "\n",
    "    # simplify the indexes of both tables\n",
    "    mask = mask.rename(index=dict(zip(mask.index.levels[1],\n",
    "                                      mask.index.levels[1].days*24 + mask.index.levels[1].seconds//3600)))\n",
    "    resampled = resampled.rename(index=dict(zip(resampled.index.levels[1],\n",
    "                                                resampled.index.levels[1].days*24 +\n",
    "                                                resampled.index.levels[1].seconds//3600)))\n",
    "\n",
    "    # clip to length_limit\n",
    "    if length_limit is not None:\n",
    "        within_length_limit = resampled.index.get_level_values(1) < length_limit\n",
    "        resampled = resampled.loc[within_length_limit]\n",
    "        mask = mask.loc[within_length_limit]\n",
    "\n",
    "    if verbose:\n",
    "        print('Filling in remaining values with zeros...')\n",
    "    resampled.fillna(0, inplace=True)\n",
    "\n",
    "    # rename the columns in pandas for the mask so it doesn't complain\n",
    "    mask.columns = [str(col) + '_mask' for col in mask.columns]\n",
    "\n",
    "    # merge the mask with the features\n",
    "    final = pd.concat([resampled, mask], axis=1)\n",
    "    final.reset_index(level=1, inplace=True)\n",
    "    final = final.loc[final.time > 0]\n",
    "\n",
    "    if verbose:\n",
    "        print('Saving progress...')\n",
    "    # save to csv\n",
    "    if test is False:\n",
    "        final.to_csv(eICU_path + 'preprocessed_timeseries.csv', mode='a', header=header)\n",
    "    return\n",
    "\n",
    "def gen_patient_chunk(patients, size=1000):\n",
    "    it = iter(patients)\n",
    "    chunk = list(islice(it, size))\n",
    "    while chunk:\n",
    "        yield chunk\n",
    "        chunk = list(islice(it, size))\n",
    "\n",
    "def gen_timeseries_file(eICU_path, test=False):\n",
    "\n",
    "    print('==> Loading data from timeseries files...')\n",
    "    if test:\n",
    "        timeseries_lab = pd.read_csv(eICU_path + 'timeserieslab.csv', nrows=500000)\n",
    "        timeseries_resp = pd.read_csv(eICU_path + 'timeseriesresp.csv', nrows=500000)\n",
    "        timeseries_nurse = pd.read_csv(eICU_path + 'timeseriesnurse.csv', nrows=500000)\n",
    "        timeseries_periodic = pd.read_csv(eICU_path + 'timeseriesperiodic.csv', nrows=500000)\n",
    "        timeseries_aperiodic = pd.read_csv(eICU_path + 'timeseriesaperiodic.csv', nrows=500000)\n",
    "    else:\n",
    "        timeseries_lab = pd.read_csv(eICU_path + 'timeserieslab.csv')\n",
    "        timeseries_resp = pd.read_csv(eICU_path + 'timeseriesresp.csv')\n",
    "        timeseries_nurse = pd.read_csv(eICU_path + 'timeseriesnurse.csv')\n",
    "        timeseries_periodic = pd.read_csv(eICU_path + 'timeseriesperiodic.csv')\n",
    "        timeseries_aperiodic = pd.read_csv(eICU_path + 'timeseriesaperiodic.csv')\n",
    "\n",
    "    print('==> Reconfiguring lab timeseries...')\n",
    "    timeseries_lab = reconfigure_timeseries(timeseries_lab,\n",
    "                                            offset_column='labresultoffset',\n",
    "                                            feature_column='labname',\n",
    "                                            test=test)\n",
    "    timeseries_lab.columns = timeseries_lab.columns.droplevel()\n",
    "\n",
    "    print('==> Reconfiguring respiratory timeseries...')\n",
    "    # get rid of % signs (found in FiO2 section) and then convert into numbers\n",
    "    timeseries_resp = timeseries_resp.replace('%', '', regex=True)\n",
    "    timeseries_resp['respchartvalue'] = pd.to_numeric(timeseries_resp['respchartvalue'], errors='coerce')\n",
    "    timeseries_resp = timeseries_resp.loc[timeseries_resp['respchartvalue'].notnull()]\n",
    "    timeseries_resp = reconfigure_timeseries(timeseries_resp,\n",
    "                                             offset_column='respchartoffset',\n",
    "                                             feature_column='respchartvaluelabel',\n",
    "                                             test=test)\n",
    "    timeseries_resp.columns = timeseries_resp.columns.droplevel()\n",
    "\n",
    "    print('==> Reconfiguring nurse timeseries...')\n",
    "    # remove non numeric data\n",
    "    timeseries_nurse['nursingchartvalue'] = pd.to_numeric(timeseries_nurse['nursingchartvalue'], errors='coerce')\n",
    "    timeseries_nurse = timeseries_nurse.loc[timeseries_nurse['nursingchartvalue'].notnull()]\n",
    "    timeseries_nurse = reconfigure_timeseries(timeseries_nurse,\n",
    "                                              offset_column='nursingchartoffset',\n",
    "                                              feature_column='nursingchartcelltypevallabel',\n",
    "                                              test=test)\n",
    "    timeseries_nurse.columns = timeseries_nurse.columns.droplevel()\n",
    "\n",
    "    print('==> Reconfiguring aperiodic timeseries...')\n",
    "    timeseries_aperiodic = reconfigure_timeseries(timeseries_aperiodic,\n",
    "                                                  offset_column='observationoffset',\n",
    "                                                  test=test)\n",
    "\n",
    "    print('==> Reconfiguring periodic timeseries...')\n",
    "    timeseries_periodic = reconfigure_timeseries(timeseries_periodic,\n",
    "                                                 offset_column='observationoffset',\n",
    "                                                 test=test)\n",
    "\n",
    "    patients = timeseries_periodic.index.unique(level=0)\n",
    "\n",
    "    size = 4000\n",
    "    gen_chunks = gen_patient_chunk(patients, size=size)\n",
    "    i = size\n",
    "    header = True  # for the first chunk include the header in the csv file\n",
    "\n",
    "    print('==> Starting main processing loop...')\n",
    "\n",
    "    for patient_chunk in gen_chunks:\n",
    "        print(patient_chunk)\n",
    "\n",
    "        merged = timeseries_lab.loc[patient_chunk].append(timeseries_resp.loc[patient_chunk], sort=False)\n",
    "        merged = merged.append(timeseries_nurse.loc[patient_chunk], sort=False)\n",
    "        merged = merged.append(timeseries_periodic.loc[patient_chunk], sort=False)\n",
    "        merged = merged.append(timeseries_aperiodic.loc[patient_chunk], sort=True)\n",
    "\n",
    "        if i == size:  # fixed from first run\n",
    "            # all if not all are not normally distributed\n",
    "            quantiles = merged.quantile([0.05, 0.95])\n",
    "            maxs = quantiles.loc[0.95]\n",
    "            mins = quantiles.loc[0.05]\n",
    "\n",
    "        merged = 2 * (merged - mins) / (maxs - mins) - 1\n",
    "\n",
    "        # we then need to make sure that ridiculous outliers are clipped to something sensible\n",
    "        merged.clip(lower=-4, upper=4, inplace=True)  # room for +- 3 on each side, as variables are scaled roughly between 0 and 1\n",
    "\n",
    "        resample_and_mask(merged, eICU_path, header, mask_decay=True, decay_rate=4/3, test=test, verbose=False)\n",
    "        print('==> Processed ' + str(i) + ' patients...')\n",
    "        i += size\n",
    "        header = False\n",
    "\n",
    "    return\n",
    "\n",
    "def add_time_of_day(processed_timeseries, flat_features):\n",
    "\n",
    "    print('==> Adding time of day features...')\n",
    "    processed_timeseries = processed_timeseries.join(flat_features[['hour']], how='inner', on='patient')\n",
    "    processed_timeseries['hour'] = processed_timeseries['time'] + processed_timeseries['hour']\n",
    "    hour_list = np.linspace(0, 1, 24)  # make sure it's still scaled well\n",
    "    processed_timeseries['hour'] = processed_timeseries['hour'].apply(lambda x: hour_list[x%24 - 24])\n",
    "    return processed_timeseries\n",
    "\n",
    "def further_processing(eICU_path, test=False):\n",
    "\n",
    "    if test:\n",
    "        processed_timeseries = pd.read_csv(eICU_path + 'preprocessed_timeseries.csv', nrows=999999)\n",
    "    else:\n",
    "        processed_timeseries = pd.read_csv(eICU_path + 'preprocessed_timeseries.csv')\n",
    "    processed_timeseries.rename(columns={'Unnamed: 1': 'time'}, inplace=True)\n",
    "    processed_timeseries.set_index('patient', inplace=True)\n",
    "    flat_features = pd.read_csv(eICU_path + 'flat_features.csv')\n",
    "    flat_features.rename(columns={'patientunitstayid': 'patient'}, inplace=True)\n",
    "    processed_timeseries.sort_values(['patient', 'time'], inplace=True)\n",
    "    flat_features.set_index('patient', inplace=True)\n",
    "\n",
    "    processed_timeseries = add_time_of_day(processed_timeseries, flat_features)\n",
    "\n",
    "    if test is False:\n",
    "        print('==> Saving finalised preprocessed timeseries...')\n",
    "        # this will replace old one that was updated earlier in the script\n",
    "        processed_timeseries.to_csv(eICU_path + 'preprocessed_timeseries.csv')\n",
    "\n",
    "    return\n",
    "\n",
    "def timeseries_main(eICU_path, test=False):\n",
    "    # make sure the preprocessed_timeseries.csv file is not there because the first section of this script appends to it\n",
    "    if test is False:\n",
    "        print('==> Removing the preprocessed_timeseries.csv file if it exists...')\n",
    "        try:\n",
    "            os.remove(eICU_path + 'preprocessed_timeseries.csv')\n",
    "        except FileNotFoundError:\n",
    "            pass\n",
    "    gen_timeseries_file(eICU_path, test)\n",
    "    further_processing(eICU_path, test)\n",
    "    return"
   ]
  },
  {
   "cell_type": "code",
   "execution_count": 3,
   "id": "1bfdf827",
   "metadata": {},
   "outputs": [
    {
     "name": "stdout",
     "output_type": "stream",
     "text": [
      "==> Loading data from timeseries files...\n"
     ]
    },
    {
     "name": "stderr",
     "output_type": "stream",
     "text": [
      "/var/folders/fj/qjbrwqhn6pg03zfft8ql94j80000gn/T/ipykernel_60282/2783758517.py:12: DtypeWarning: Columns (3) have mixed types. Specify dtype option on import or set low_memory=False.\n",
      "  timeseries_resp = pd.read_csv(eICU_path + 'timeseriesresp.csv')\n"
     ]
    }
   ],
   "source": [
    "eICU_path = ''\n",
    "test = False\n",
    "print('==> Loading data from timeseries files...')\n",
    "if test:\n",
    "    timeseries_lab = pd.read_csv(eICU_path + 'timeserieslab.csv', nrows=500000)\n",
    "    timeseries_resp = pd.read_csv(eICU_path + 'timeseriesresp.csv', nrows=500000)\n",
    "    timeseries_nurse = pd.read_csv(eICU_path + 'timeseriesnurse.csv', nrows=500000)\n",
    "    timeseries_periodic = pd.read_csv(eICU_path + 'timeseriesperiodic.csv', nrows=500000)\n",
    "    timeseries_aperiodic = pd.read_csv(eICU_path + 'timeseriesaperiodic.csv', nrows=500000)\n",
    "else:\n",
    "    timeseries_lab = pd.read_csv(eICU_path + 'timeserieslab.csv')\n",
    "    timeseries_resp = pd.read_csv(eICU_path + 'timeseriesresp.csv')\n",
    "    timeseries_nurse = pd.read_csv(eICU_path + 'timeseriesnurse.csv')\n",
    "    timeseries_periodic = pd.read_csv(eICU_path + 'timeseriesperiodic.csv')\n",
    "    timeseries_aperiodic = pd.read_csv(eICU_path + 'timeseriesaperiodic.csv')"
   ]
  },
  {
   "cell_type": "code",
   "execution_count": 4,
   "id": "1e585248",
   "metadata": {},
   "outputs": [
    {
     "name": "stdout",
     "output_type": "stream",
     "text": [
      "==> Reconfiguring lab timeseries...\n"
     ]
    }
   ],
   "source": [
    "print('==> Reconfiguring lab timeseries...')\n",
    "timeseries_lab = reconfigure_timeseries(timeseries_lab,\n",
    "                                        offset_column='labresultoffset',\n",
    "                                        feature_column='labname',\n",
    "                                        test=test)\n",
    "timeseries_lab.columns = timeseries_lab.columns.droplevel()"
   ]
  },
  {
   "cell_type": "code",
   "execution_count": 5,
   "id": "89ea4baa",
   "metadata": {},
   "outputs": [
    {
     "name": "stdout",
     "output_type": "stream",
     "text": [
      "==> Reconfiguring respiratory timeseries...\n"
     ]
    }
   ],
   "source": [
    "print('==> Reconfiguring respiratory timeseries...')\n",
    "# get rid of % signs (found in FiO2 section) and then convert into numbers\n",
    "timeseries_resp = timeseries_resp.replace('%', '', regex=True)\n",
    "timeseries_resp['respchartvalue'] = pd.to_numeric(timeseries_resp['respchartvalue'], errors='coerce')\n",
    "timeseries_resp = timeseries_resp.loc[timeseries_resp['respchartvalue'].notnull()]\n",
    "timeseries_resp = reconfigure_timeseries(timeseries_resp,\n",
    "                                         offset_column='respchartoffset',\n",
    "                                         feature_column='respchartvaluelabel',\n",
    "                                         test=test)\n",
    "timeseries_resp.columns = timeseries_resp.columns.droplevel()"
   ]
  },
  {
   "cell_type": "code",
   "execution_count": 6,
   "id": "3d85508a",
   "metadata": {},
   "outputs": [
    {
     "name": "stdout",
     "output_type": "stream",
     "text": [
      "==> Reconfiguring nurse timeseries...\n"
     ]
    }
   ],
   "source": [
    "print('==> Reconfiguring nurse timeseries...')\n",
    "# remove non numeric data\n",
    "timeseries_nurse['nursingchartvalue'] = pd.to_numeric(timeseries_nurse['nursingchartvalue'], errors='coerce')\n",
    "timeseries_nurse = timeseries_nurse.loc[timeseries_nurse['nursingchartvalue'].notnull()]\n",
    "timeseries_nurse = reconfigure_timeseries(timeseries_nurse,\n",
    "                                          offset_column='nursingchartoffset',\n",
    "                                          feature_column='nursingchartcelltypevallabel',\n",
    "                                          test=test)\n",
    "timeseries_nurse.columns = timeseries_nurse.columns.droplevel()"
   ]
  },
  {
   "cell_type": "code",
   "execution_count": 7,
   "id": "6d5e6844",
   "metadata": {},
   "outputs": [
    {
     "name": "stdout",
     "output_type": "stream",
     "text": [
      "==> Reconfiguring aperiodic timeseries...\n"
     ]
    }
   ],
   "source": [
    "print('==> Reconfiguring aperiodic timeseries...')\n",
    "timeseries_aperiodic = reconfigure_timeseries(timeseries_aperiodic,\n",
    "                                              offset_column='observationoffset',\n",
    "                                              test=test)"
   ]
  },
  {
   "cell_type": "code",
   "execution_count": 8,
   "id": "5eb695a8",
   "metadata": {},
   "outputs": [
    {
     "name": "stdout",
     "output_type": "stream",
     "text": [
      "==> Reconfiguring periodic timeseries...\n"
     ]
    }
   ],
   "source": [
    "print('==> Reconfiguring periodic timeseries...')\n",
    "timeseries_periodic = reconfigure_timeseries(timeseries_periodic,\n",
    "                                             offset_column='observationoffset',\n",
    "                                             test=test)"
   ]
  },
  {
   "cell_type": "code",
   "execution_count": 9,
   "id": "27c401ed",
   "metadata": {},
   "outputs": [],
   "source": [
    "patients = timeseries_periodic.index.unique(level=0)\n",
    "\n",
    "size = 4000\n",
    "gen_chunks = gen_patient_chunk(patients, size=size)\n",
    "i = size\n",
    "header = True  # for the first chunk include the header in the csv file"
   ]
  },
  {
   "cell_type": "code",
   "execution_count": 10,
   "id": "2feaea83",
   "metadata": {},
   "outputs": [
    {
     "name": "stdout",
     "output_type": "stream",
     "text": [
      "==> Starting main processing loop...\n"
     ]
    },
    {
     "name": "stderr",
     "output_type": "stream",
     "text": [
      "/var/folders/fj/qjbrwqhn6pg03zfft8ql94j80000gn/T/ipykernel_60282/570370552.py:30: FutureWarning: The frame.append method is deprecated and will be removed from pandas in a future version. Use pandas.concat instead.\n",
      "  merged = merged.append(timeseries_resp.loc[valid_resp_idx], sort=False)\n",
      "/var/folders/fj/qjbrwqhn6pg03zfft8ql94j80000gn/T/ipykernel_60282/570370552.py:31: FutureWarning: The frame.append method is deprecated and will be removed from pandas in a future version. Use pandas.concat instead.\n",
      "  merged = merged.append(timeseries_nurse.loc[valid_nurse_idx], sort=False)\n",
      "/var/folders/fj/qjbrwqhn6pg03zfft8ql94j80000gn/T/ipykernel_60282/570370552.py:32: FutureWarning: The frame.append method is deprecated and will be removed from pandas in a future version. Use pandas.concat instead.\n",
      "  merged = merged.append(timeseries_periodic.loc[valid_periodic_idx], sort=False)\n",
      "/var/folders/fj/qjbrwqhn6pg03zfft8ql94j80000gn/T/ipykernel_60282/570370552.py:33: FutureWarning: The frame.append method is deprecated and will be removed from pandas in a future version. Use pandas.concat instead.\n",
      "  merged = merged.append(timeseries_aperiodic.loc[valid_aperiodic_idx], sort=True)\n"
     ]
    },
    {
     "name": "stdout",
     "output_type": "stream",
     "text": [
      "==> Processed 4000 patients...\n"
     ]
    },
    {
     "name": "stderr",
     "output_type": "stream",
     "text": [
      "/var/folders/fj/qjbrwqhn6pg03zfft8ql94j80000gn/T/ipykernel_60282/570370552.py:30: FutureWarning: The frame.append method is deprecated and will be removed from pandas in a future version. Use pandas.concat instead.\n",
      "  merged = merged.append(timeseries_resp.loc[valid_resp_idx], sort=False)\n",
      "/var/folders/fj/qjbrwqhn6pg03zfft8ql94j80000gn/T/ipykernel_60282/570370552.py:31: FutureWarning: The frame.append method is deprecated and will be removed from pandas in a future version. Use pandas.concat instead.\n",
      "  merged = merged.append(timeseries_nurse.loc[valid_nurse_idx], sort=False)\n",
      "/var/folders/fj/qjbrwqhn6pg03zfft8ql94j80000gn/T/ipykernel_60282/570370552.py:32: FutureWarning: The frame.append method is deprecated and will be removed from pandas in a future version. Use pandas.concat instead.\n",
      "  merged = merged.append(timeseries_periodic.loc[valid_periodic_idx], sort=False)\n",
      "/var/folders/fj/qjbrwqhn6pg03zfft8ql94j80000gn/T/ipykernel_60282/570370552.py:33: FutureWarning: The frame.append method is deprecated and will be removed from pandas in a future version. Use pandas.concat instead.\n",
      "  merged = merged.append(timeseries_aperiodic.loc[valid_aperiodic_idx], sort=True)\n"
     ]
    },
    {
     "name": "stdout",
     "output_type": "stream",
     "text": [
      "==> Processed 8000 patients...\n"
     ]
    },
    {
     "name": "stderr",
     "output_type": "stream",
     "text": [
      "/var/folders/fj/qjbrwqhn6pg03zfft8ql94j80000gn/T/ipykernel_60282/570370552.py:30: FutureWarning: The frame.append method is deprecated and will be removed from pandas in a future version. Use pandas.concat instead.\n",
      "  merged = merged.append(timeseries_resp.loc[valid_resp_idx], sort=False)\n",
      "/var/folders/fj/qjbrwqhn6pg03zfft8ql94j80000gn/T/ipykernel_60282/570370552.py:31: FutureWarning: The frame.append method is deprecated and will be removed from pandas in a future version. Use pandas.concat instead.\n",
      "  merged = merged.append(timeseries_nurse.loc[valid_nurse_idx], sort=False)\n",
      "/var/folders/fj/qjbrwqhn6pg03zfft8ql94j80000gn/T/ipykernel_60282/570370552.py:32: FutureWarning: The frame.append method is deprecated and will be removed from pandas in a future version. Use pandas.concat instead.\n",
      "  merged = merged.append(timeseries_periodic.loc[valid_periodic_idx], sort=False)\n",
      "/var/folders/fj/qjbrwqhn6pg03zfft8ql94j80000gn/T/ipykernel_60282/570370552.py:33: FutureWarning: The frame.append method is deprecated and will be removed from pandas in a future version. Use pandas.concat instead.\n",
      "  merged = merged.append(timeseries_aperiodic.loc[valid_aperiodic_idx], sort=True)\n"
     ]
    },
    {
     "name": "stdout",
     "output_type": "stream",
     "text": [
      "==> Processed 12000 patients...\n"
     ]
    },
    {
     "name": "stderr",
     "output_type": "stream",
     "text": [
      "/var/folders/fj/qjbrwqhn6pg03zfft8ql94j80000gn/T/ipykernel_60282/570370552.py:30: FutureWarning: The frame.append method is deprecated and will be removed from pandas in a future version. Use pandas.concat instead.\n",
      "  merged = merged.append(timeseries_resp.loc[valid_resp_idx], sort=False)\n",
      "/var/folders/fj/qjbrwqhn6pg03zfft8ql94j80000gn/T/ipykernel_60282/570370552.py:31: FutureWarning: The frame.append method is deprecated and will be removed from pandas in a future version. Use pandas.concat instead.\n",
      "  merged = merged.append(timeseries_nurse.loc[valid_nurse_idx], sort=False)\n",
      "/var/folders/fj/qjbrwqhn6pg03zfft8ql94j80000gn/T/ipykernel_60282/570370552.py:32: FutureWarning: The frame.append method is deprecated and will be removed from pandas in a future version. Use pandas.concat instead.\n",
      "  merged = merged.append(timeseries_periodic.loc[valid_periodic_idx], sort=False)\n",
      "/var/folders/fj/qjbrwqhn6pg03zfft8ql94j80000gn/T/ipykernel_60282/570370552.py:33: FutureWarning: The frame.append method is deprecated and will be removed from pandas in a future version. Use pandas.concat instead.\n",
      "  merged = merged.append(timeseries_aperiodic.loc[valid_aperiodic_idx], sort=True)\n"
     ]
    },
    {
     "name": "stdout",
     "output_type": "stream",
     "text": [
      "==> Processed 16000 patients...\n"
     ]
    },
    {
     "name": "stderr",
     "output_type": "stream",
     "text": [
      "/var/folders/fj/qjbrwqhn6pg03zfft8ql94j80000gn/T/ipykernel_60282/570370552.py:30: FutureWarning: The frame.append method is deprecated and will be removed from pandas in a future version. Use pandas.concat instead.\n",
      "  merged = merged.append(timeseries_resp.loc[valid_resp_idx], sort=False)\n",
      "/var/folders/fj/qjbrwqhn6pg03zfft8ql94j80000gn/T/ipykernel_60282/570370552.py:31: FutureWarning: The frame.append method is deprecated and will be removed from pandas in a future version. Use pandas.concat instead.\n",
      "  merged = merged.append(timeseries_nurse.loc[valid_nurse_idx], sort=False)\n",
      "/var/folders/fj/qjbrwqhn6pg03zfft8ql94j80000gn/T/ipykernel_60282/570370552.py:32: FutureWarning: The frame.append method is deprecated and will be removed from pandas in a future version. Use pandas.concat instead.\n",
      "  merged = merged.append(timeseries_periodic.loc[valid_periodic_idx], sort=False)\n",
      "/var/folders/fj/qjbrwqhn6pg03zfft8ql94j80000gn/T/ipykernel_60282/570370552.py:33: FutureWarning: The frame.append method is deprecated and will be removed from pandas in a future version. Use pandas.concat instead.\n",
      "  merged = merged.append(timeseries_aperiodic.loc[valid_aperiodic_idx], sort=True)\n"
     ]
    },
    {
     "name": "stdout",
     "output_type": "stream",
     "text": [
      "==> Processed 20000 patients...\n"
     ]
    },
    {
     "name": "stderr",
     "output_type": "stream",
     "text": [
      "/var/folders/fj/qjbrwqhn6pg03zfft8ql94j80000gn/T/ipykernel_60282/570370552.py:30: FutureWarning: The frame.append method is deprecated and will be removed from pandas in a future version. Use pandas.concat instead.\n",
      "  merged = merged.append(timeseries_resp.loc[valid_resp_idx], sort=False)\n",
      "/var/folders/fj/qjbrwqhn6pg03zfft8ql94j80000gn/T/ipykernel_60282/570370552.py:31: FutureWarning: The frame.append method is deprecated and will be removed from pandas in a future version. Use pandas.concat instead.\n",
      "  merged = merged.append(timeseries_nurse.loc[valid_nurse_idx], sort=False)\n",
      "/var/folders/fj/qjbrwqhn6pg03zfft8ql94j80000gn/T/ipykernel_60282/570370552.py:32: FutureWarning: The frame.append method is deprecated and will be removed from pandas in a future version. Use pandas.concat instead.\n",
      "  merged = merged.append(timeseries_periodic.loc[valid_periodic_idx], sort=False)\n",
      "/var/folders/fj/qjbrwqhn6pg03zfft8ql94j80000gn/T/ipykernel_60282/570370552.py:33: FutureWarning: The frame.append method is deprecated and will be removed from pandas in a future version. Use pandas.concat instead.\n",
      "  merged = merged.append(timeseries_aperiodic.loc[valid_aperiodic_idx], sort=True)\n"
     ]
    },
    {
     "name": "stdout",
     "output_type": "stream",
     "text": [
      "==> Processed 24000 patients...\n"
     ]
    },
    {
     "name": "stderr",
     "output_type": "stream",
     "text": [
      "/var/folders/fj/qjbrwqhn6pg03zfft8ql94j80000gn/T/ipykernel_60282/570370552.py:30: FutureWarning: The frame.append method is deprecated and will be removed from pandas in a future version. Use pandas.concat instead.\n",
      "  merged = merged.append(timeseries_resp.loc[valid_resp_idx], sort=False)\n",
      "/var/folders/fj/qjbrwqhn6pg03zfft8ql94j80000gn/T/ipykernel_60282/570370552.py:31: FutureWarning: The frame.append method is deprecated and will be removed from pandas in a future version. Use pandas.concat instead.\n",
      "  merged = merged.append(timeseries_nurse.loc[valid_nurse_idx], sort=False)\n",
      "/var/folders/fj/qjbrwqhn6pg03zfft8ql94j80000gn/T/ipykernel_60282/570370552.py:32: FutureWarning: The frame.append method is deprecated and will be removed from pandas in a future version. Use pandas.concat instead.\n",
      "  merged = merged.append(timeseries_periodic.loc[valid_periodic_idx], sort=False)\n",
      "/var/folders/fj/qjbrwqhn6pg03zfft8ql94j80000gn/T/ipykernel_60282/570370552.py:33: FutureWarning: The frame.append method is deprecated and will be removed from pandas in a future version. Use pandas.concat instead.\n",
      "  merged = merged.append(timeseries_aperiodic.loc[valid_aperiodic_idx], sort=True)\n"
     ]
    },
    {
     "name": "stdout",
     "output_type": "stream",
     "text": [
      "==> Processed 28000 patients...\n"
     ]
    },
    {
     "name": "stderr",
     "output_type": "stream",
     "text": [
      "/var/folders/fj/qjbrwqhn6pg03zfft8ql94j80000gn/T/ipykernel_60282/570370552.py:30: FutureWarning: The frame.append method is deprecated and will be removed from pandas in a future version. Use pandas.concat instead.\n",
      "  merged = merged.append(timeseries_resp.loc[valid_resp_idx], sort=False)\n",
      "/var/folders/fj/qjbrwqhn6pg03zfft8ql94j80000gn/T/ipykernel_60282/570370552.py:31: FutureWarning: The frame.append method is deprecated and will be removed from pandas in a future version. Use pandas.concat instead.\n",
      "  merged = merged.append(timeseries_nurse.loc[valid_nurse_idx], sort=False)\n",
      "/var/folders/fj/qjbrwqhn6pg03zfft8ql94j80000gn/T/ipykernel_60282/570370552.py:32: FutureWarning: The frame.append method is deprecated and will be removed from pandas in a future version. Use pandas.concat instead.\n",
      "  merged = merged.append(timeseries_periodic.loc[valid_periodic_idx], sort=False)\n",
      "/var/folders/fj/qjbrwqhn6pg03zfft8ql94j80000gn/T/ipykernel_60282/570370552.py:33: FutureWarning: The frame.append method is deprecated and will be removed from pandas in a future version. Use pandas.concat instead.\n",
      "  merged = merged.append(timeseries_aperiodic.loc[valid_aperiodic_idx], sort=True)\n"
     ]
    },
    {
     "name": "stdout",
     "output_type": "stream",
     "text": [
      "==> Processed 32000 patients...\n"
     ]
    },
    {
     "name": "stderr",
     "output_type": "stream",
     "text": [
      "/var/folders/fj/qjbrwqhn6pg03zfft8ql94j80000gn/T/ipykernel_60282/570370552.py:30: FutureWarning: The frame.append method is deprecated and will be removed from pandas in a future version. Use pandas.concat instead.\n",
      "  merged = merged.append(timeseries_resp.loc[valid_resp_idx], sort=False)\n",
      "/var/folders/fj/qjbrwqhn6pg03zfft8ql94j80000gn/T/ipykernel_60282/570370552.py:31: FutureWarning: The frame.append method is deprecated and will be removed from pandas in a future version. Use pandas.concat instead.\n",
      "  merged = merged.append(timeseries_nurse.loc[valid_nurse_idx], sort=False)\n",
      "/var/folders/fj/qjbrwqhn6pg03zfft8ql94j80000gn/T/ipykernel_60282/570370552.py:32: FutureWarning: The frame.append method is deprecated and will be removed from pandas in a future version. Use pandas.concat instead.\n",
      "  merged = merged.append(timeseries_periodic.loc[valid_periodic_idx], sort=False)\n",
      "/var/folders/fj/qjbrwqhn6pg03zfft8ql94j80000gn/T/ipykernel_60282/570370552.py:33: FutureWarning: The frame.append method is deprecated and will be removed from pandas in a future version. Use pandas.concat instead.\n",
      "  merged = merged.append(timeseries_aperiodic.loc[valid_aperiodic_idx], sort=True)\n"
     ]
    },
    {
     "name": "stdout",
     "output_type": "stream",
     "text": [
      "==> Processed 36000 patients...\n"
     ]
    },
    {
     "name": "stderr",
     "output_type": "stream",
     "text": [
      "/var/folders/fj/qjbrwqhn6pg03zfft8ql94j80000gn/T/ipykernel_60282/570370552.py:30: FutureWarning: The frame.append method is deprecated and will be removed from pandas in a future version. Use pandas.concat instead.\n",
      "  merged = merged.append(timeseries_resp.loc[valid_resp_idx], sort=False)\n",
      "/var/folders/fj/qjbrwqhn6pg03zfft8ql94j80000gn/T/ipykernel_60282/570370552.py:31: FutureWarning: The frame.append method is deprecated and will be removed from pandas in a future version. Use pandas.concat instead.\n",
      "  merged = merged.append(timeseries_nurse.loc[valid_nurse_idx], sort=False)\n",
      "/var/folders/fj/qjbrwqhn6pg03zfft8ql94j80000gn/T/ipykernel_60282/570370552.py:32: FutureWarning: The frame.append method is deprecated and will be removed from pandas in a future version. Use pandas.concat instead.\n",
      "  merged = merged.append(timeseries_periodic.loc[valid_periodic_idx], sort=False)\n",
      "/var/folders/fj/qjbrwqhn6pg03zfft8ql94j80000gn/T/ipykernel_60282/570370552.py:33: FutureWarning: The frame.append method is deprecated and will be removed from pandas in a future version. Use pandas.concat instead.\n",
      "  merged = merged.append(timeseries_aperiodic.loc[valid_aperiodic_idx], sort=True)\n"
     ]
    },
    {
     "name": "stdout",
     "output_type": "stream",
     "text": [
      "==> Processed 40000 patients...\n"
     ]
    },
    {
     "name": "stderr",
     "output_type": "stream",
     "text": [
      "/var/folders/fj/qjbrwqhn6pg03zfft8ql94j80000gn/T/ipykernel_60282/570370552.py:30: FutureWarning: The frame.append method is deprecated and will be removed from pandas in a future version. Use pandas.concat instead.\n",
      "  merged = merged.append(timeseries_resp.loc[valid_resp_idx], sort=False)\n",
      "/var/folders/fj/qjbrwqhn6pg03zfft8ql94j80000gn/T/ipykernel_60282/570370552.py:31: FutureWarning: The frame.append method is deprecated and will be removed from pandas in a future version. Use pandas.concat instead.\n",
      "  merged = merged.append(timeseries_nurse.loc[valid_nurse_idx], sort=False)\n",
      "/var/folders/fj/qjbrwqhn6pg03zfft8ql94j80000gn/T/ipykernel_60282/570370552.py:32: FutureWarning: The frame.append method is deprecated and will be removed from pandas in a future version. Use pandas.concat instead.\n",
      "  merged = merged.append(timeseries_periodic.loc[valid_periodic_idx], sort=False)\n",
      "/var/folders/fj/qjbrwqhn6pg03zfft8ql94j80000gn/T/ipykernel_60282/570370552.py:33: FutureWarning: The frame.append method is deprecated and will be removed from pandas in a future version. Use pandas.concat instead.\n",
      "  merged = merged.append(timeseries_aperiodic.loc[valid_aperiodic_idx], sort=True)\n"
     ]
    },
    {
     "name": "stdout",
     "output_type": "stream",
     "text": [
      "==> Processed 44000 patients...\n"
     ]
    },
    {
     "name": "stderr",
     "output_type": "stream",
     "text": [
      "/var/folders/fj/qjbrwqhn6pg03zfft8ql94j80000gn/T/ipykernel_60282/570370552.py:30: FutureWarning: The frame.append method is deprecated and will be removed from pandas in a future version. Use pandas.concat instead.\n",
      "  merged = merged.append(timeseries_resp.loc[valid_resp_idx], sort=False)\n",
      "/var/folders/fj/qjbrwqhn6pg03zfft8ql94j80000gn/T/ipykernel_60282/570370552.py:31: FutureWarning: The frame.append method is deprecated and will be removed from pandas in a future version. Use pandas.concat instead.\n",
      "  merged = merged.append(timeseries_nurse.loc[valid_nurse_idx], sort=False)\n",
      "/var/folders/fj/qjbrwqhn6pg03zfft8ql94j80000gn/T/ipykernel_60282/570370552.py:32: FutureWarning: The frame.append method is deprecated and will be removed from pandas in a future version. Use pandas.concat instead.\n",
      "  merged = merged.append(timeseries_periodic.loc[valid_periodic_idx], sort=False)\n",
      "/var/folders/fj/qjbrwqhn6pg03zfft8ql94j80000gn/T/ipykernel_60282/570370552.py:33: FutureWarning: The frame.append method is deprecated and will be removed from pandas in a future version. Use pandas.concat instead.\n",
      "  merged = merged.append(timeseries_aperiodic.loc[valid_aperiodic_idx], sort=True)\n"
     ]
    },
    {
     "name": "stdout",
     "output_type": "stream",
     "text": [
      "==> Processed 48000 patients...\n"
     ]
    },
    {
     "name": "stderr",
     "output_type": "stream",
     "text": [
      "/var/folders/fj/qjbrwqhn6pg03zfft8ql94j80000gn/T/ipykernel_60282/570370552.py:30: FutureWarning: The frame.append method is deprecated and will be removed from pandas in a future version. Use pandas.concat instead.\n",
      "  merged = merged.append(timeseries_resp.loc[valid_resp_idx], sort=False)\n",
      "/var/folders/fj/qjbrwqhn6pg03zfft8ql94j80000gn/T/ipykernel_60282/570370552.py:31: FutureWarning: The frame.append method is deprecated and will be removed from pandas in a future version. Use pandas.concat instead.\n",
      "  merged = merged.append(timeseries_nurse.loc[valid_nurse_idx], sort=False)\n",
      "/var/folders/fj/qjbrwqhn6pg03zfft8ql94j80000gn/T/ipykernel_60282/570370552.py:32: FutureWarning: The frame.append method is deprecated and will be removed from pandas in a future version. Use pandas.concat instead.\n",
      "  merged = merged.append(timeseries_periodic.loc[valid_periodic_idx], sort=False)\n",
      "/var/folders/fj/qjbrwqhn6pg03zfft8ql94j80000gn/T/ipykernel_60282/570370552.py:33: FutureWarning: The frame.append method is deprecated and will be removed from pandas in a future version. Use pandas.concat instead.\n",
      "  merged = merged.append(timeseries_aperiodic.loc[valid_aperiodic_idx], sort=True)\n"
     ]
    },
    {
     "name": "stdout",
     "output_type": "stream",
     "text": [
      "==> Processed 52000 patients...\n"
     ]
    },
    {
     "name": "stderr",
     "output_type": "stream",
     "text": [
      "/var/folders/fj/qjbrwqhn6pg03zfft8ql94j80000gn/T/ipykernel_60282/570370552.py:30: FutureWarning: The frame.append method is deprecated and will be removed from pandas in a future version. Use pandas.concat instead.\n",
      "  merged = merged.append(timeseries_resp.loc[valid_resp_idx], sort=False)\n",
      "/var/folders/fj/qjbrwqhn6pg03zfft8ql94j80000gn/T/ipykernel_60282/570370552.py:31: FutureWarning: The frame.append method is deprecated and will be removed from pandas in a future version. Use pandas.concat instead.\n",
      "  merged = merged.append(timeseries_nurse.loc[valid_nurse_idx], sort=False)\n",
      "/var/folders/fj/qjbrwqhn6pg03zfft8ql94j80000gn/T/ipykernel_60282/570370552.py:32: FutureWarning: The frame.append method is deprecated and will be removed from pandas in a future version. Use pandas.concat instead.\n",
      "  merged = merged.append(timeseries_periodic.loc[valid_periodic_idx], sort=False)\n",
      "/var/folders/fj/qjbrwqhn6pg03zfft8ql94j80000gn/T/ipykernel_60282/570370552.py:33: FutureWarning: The frame.append method is deprecated and will be removed from pandas in a future version. Use pandas.concat instead.\n",
      "  merged = merged.append(timeseries_aperiodic.loc[valid_aperiodic_idx], sort=True)\n"
     ]
    },
    {
     "name": "stdout",
     "output_type": "stream",
     "text": [
      "==> Processed 56000 patients...\n"
     ]
    },
    {
     "name": "stderr",
     "output_type": "stream",
     "text": [
      "/var/folders/fj/qjbrwqhn6pg03zfft8ql94j80000gn/T/ipykernel_60282/570370552.py:30: FutureWarning: The frame.append method is deprecated and will be removed from pandas in a future version. Use pandas.concat instead.\n",
      "  merged = merged.append(timeseries_resp.loc[valid_resp_idx], sort=False)\n",
      "/var/folders/fj/qjbrwqhn6pg03zfft8ql94j80000gn/T/ipykernel_60282/570370552.py:31: FutureWarning: The frame.append method is deprecated and will be removed from pandas in a future version. Use pandas.concat instead.\n",
      "  merged = merged.append(timeseries_nurse.loc[valid_nurse_idx], sort=False)\n",
      "/var/folders/fj/qjbrwqhn6pg03zfft8ql94j80000gn/T/ipykernel_60282/570370552.py:32: FutureWarning: The frame.append method is deprecated and will be removed from pandas in a future version. Use pandas.concat instead.\n",
      "  merged = merged.append(timeseries_periodic.loc[valid_periodic_idx], sort=False)\n",
      "/var/folders/fj/qjbrwqhn6pg03zfft8ql94j80000gn/T/ipykernel_60282/570370552.py:33: FutureWarning: The frame.append method is deprecated and will be removed from pandas in a future version. Use pandas.concat instead.\n",
      "  merged = merged.append(timeseries_aperiodic.loc[valid_aperiodic_idx], sort=True)\n"
     ]
    },
    {
     "name": "stdout",
     "output_type": "stream",
     "text": [
      "==> Processed 60000 patients...\n"
     ]
    },
    {
     "name": "stderr",
     "output_type": "stream",
     "text": [
      "/var/folders/fj/qjbrwqhn6pg03zfft8ql94j80000gn/T/ipykernel_60282/570370552.py:30: FutureWarning: The frame.append method is deprecated and will be removed from pandas in a future version. Use pandas.concat instead.\n",
      "  merged = merged.append(timeseries_resp.loc[valid_resp_idx], sort=False)\n",
      "/var/folders/fj/qjbrwqhn6pg03zfft8ql94j80000gn/T/ipykernel_60282/570370552.py:31: FutureWarning: The frame.append method is deprecated and will be removed from pandas in a future version. Use pandas.concat instead.\n",
      "  merged = merged.append(timeseries_nurse.loc[valid_nurse_idx], sort=False)\n",
      "/var/folders/fj/qjbrwqhn6pg03zfft8ql94j80000gn/T/ipykernel_60282/570370552.py:32: FutureWarning: The frame.append method is deprecated and will be removed from pandas in a future version. Use pandas.concat instead.\n",
      "  merged = merged.append(timeseries_periodic.loc[valid_periodic_idx], sort=False)\n",
      "/var/folders/fj/qjbrwqhn6pg03zfft8ql94j80000gn/T/ipykernel_60282/570370552.py:33: FutureWarning: The frame.append method is deprecated and will be removed from pandas in a future version. Use pandas.concat instead.\n",
      "  merged = merged.append(timeseries_aperiodic.loc[valid_aperiodic_idx], sort=True)\n"
     ]
    },
    {
     "name": "stdout",
     "output_type": "stream",
     "text": [
      "==> Processed 64000 patients...\n"
     ]
    },
    {
     "name": "stderr",
     "output_type": "stream",
     "text": [
      "/var/folders/fj/qjbrwqhn6pg03zfft8ql94j80000gn/T/ipykernel_60282/570370552.py:30: FutureWarning: The frame.append method is deprecated and will be removed from pandas in a future version. Use pandas.concat instead.\n",
      "  merged = merged.append(timeseries_resp.loc[valid_resp_idx], sort=False)\n",
      "/var/folders/fj/qjbrwqhn6pg03zfft8ql94j80000gn/T/ipykernel_60282/570370552.py:31: FutureWarning: The frame.append method is deprecated and will be removed from pandas in a future version. Use pandas.concat instead.\n",
      "  merged = merged.append(timeseries_nurse.loc[valid_nurse_idx], sort=False)\n",
      "/var/folders/fj/qjbrwqhn6pg03zfft8ql94j80000gn/T/ipykernel_60282/570370552.py:32: FutureWarning: The frame.append method is deprecated and will be removed from pandas in a future version. Use pandas.concat instead.\n",
      "  merged = merged.append(timeseries_periodic.loc[valid_periodic_idx], sort=False)\n",
      "/var/folders/fj/qjbrwqhn6pg03zfft8ql94j80000gn/T/ipykernel_60282/570370552.py:33: FutureWarning: The frame.append method is deprecated and will be removed from pandas in a future version. Use pandas.concat instead.\n",
      "  merged = merged.append(timeseries_aperiodic.loc[valid_aperiodic_idx], sort=True)\n"
     ]
    },
    {
     "name": "stdout",
     "output_type": "stream",
     "text": [
      "==> Processed 68000 patients...\n"
     ]
    },
    {
     "name": "stderr",
     "output_type": "stream",
     "text": [
      "/var/folders/fj/qjbrwqhn6pg03zfft8ql94j80000gn/T/ipykernel_60282/570370552.py:30: FutureWarning: The frame.append method is deprecated and will be removed from pandas in a future version. Use pandas.concat instead.\n",
      "  merged = merged.append(timeseries_resp.loc[valid_resp_idx], sort=False)\n",
      "/var/folders/fj/qjbrwqhn6pg03zfft8ql94j80000gn/T/ipykernel_60282/570370552.py:31: FutureWarning: The frame.append method is deprecated and will be removed from pandas in a future version. Use pandas.concat instead.\n",
      "  merged = merged.append(timeseries_nurse.loc[valid_nurse_idx], sort=False)\n",
      "/var/folders/fj/qjbrwqhn6pg03zfft8ql94j80000gn/T/ipykernel_60282/570370552.py:32: FutureWarning: The frame.append method is deprecated and will be removed from pandas in a future version. Use pandas.concat instead.\n",
      "  merged = merged.append(timeseries_periodic.loc[valid_periodic_idx], sort=False)\n",
      "/var/folders/fj/qjbrwqhn6pg03zfft8ql94j80000gn/T/ipykernel_60282/570370552.py:33: FutureWarning: The frame.append method is deprecated and will be removed from pandas in a future version. Use pandas.concat instead.\n",
      "  merged = merged.append(timeseries_aperiodic.loc[valid_aperiodic_idx], sort=True)\n"
     ]
    },
    {
     "name": "stdout",
     "output_type": "stream",
     "text": [
      "==> Processed 72000 patients...\n"
     ]
    },
    {
     "name": "stderr",
     "output_type": "stream",
     "text": [
      "/var/folders/fj/qjbrwqhn6pg03zfft8ql94j80000gn/T/ipykernel_60282/570370552.py:30: FutureWarning: The frame.append method is deprecated and will be removed from pandas in a future version. Use pandas.concat instead.\n",
      "  merged = merged.append(timeseries_resp.loc[valid_resp_idx], sort=False)\n",
      "/var/folders/fj/qjbrwqhn6pg03zfft8ql94j80000gn/T/ipykernel_60282/570370552.py:31: FutureWarning: The frame.append method is deprecated and will be removed from pandas in a future version. Use pandas.concat instead.\n",
      "  merged = merged.append(timeseries_nurse.loc[valid_nurse_idx], sort=False)\n",
      "/var/folders/fj/qjbrwqhn6pg03zfft8ql94j80000gn/T/ipykernel_60282/570370552.py:32: FutureWarning: The frame.append method is deprecated and will be removed from pandas in a future version. Use pandas.concat instead.\n",
      "  merged = merged.append(timeseries_periodic.loc[valid_periodic_idx], sort=False)\n",
      "/var/folders/fj/qjbrwqhn6pg03zfft8ql94j80000gn/T/ipykernel_60282/570370552.py:33: FutureWarning: The frame.append method is deprecated and will be removed from pandas in a future version. Use pandas.concat instead.\n",
      "  merged = merged.append(timeseries_aperiodic.loc[valid_aperiodic_idx], sort=True)\n"
     ]
    },
    {
     "name": "stdout",
     "output_type": "stream",
     "text": [
      "==> Processed 76000 patients...\n"
     ]
    },
    {
     "name": "stderr",
     "output_type": "stream",
     "text": [
      "/var/folders/fj/qjbrwqhn6pg03zfft8ql94j80000gn/T/ipykernel_60282/570370552.py:30: FutureWarning: The frame.append method is deprecated and will be removed from pandas in a future version. Use pandas.concat instead.\n",
      "  merged = merged.append(timeseries_resp.loc[valid_resp_idx], sort=False)\n",
      "/var/folders/fj/qjbrwqhn6pg03zfft8ql94j80000gn/T/ipykernel_60282/570370552.py:31: FutureWarning: The frame.append method is deprecated and will be removed from pandas in a future version. Use pandas.concat instead.\n",
      "  merged = merged.append(timeseries_nurse.loc[valid_nurse_idx], sort=False)\n",
      "/var/folders/fj/qjbrwqhn6pg03zfft8ql94j80000gn/T/ipykernel_60282/570370552.py:32: FutureWarning: The frame.append method is deprecated and will be removed from pandas in a future version. Use pandas.concat instead.\n",
      "  merged = merged.append(timeseries_periodic.loc[valid_periodic_idx], sort=False)\n",
      "/var/folders/fj/qjbrwqhn6pg03zfft8ql94j80000gn/T/ipykernel_60282/570370552.py:33: FutureWarning: The frame.append method is deprecated and will be removed from pandas in a future version. Use pandas.concat instead.\n",
      "  merged = merged.append(timeseries_aperiodic.loc[valid_aperiodic_idx], sort=True)\n"
     ]
    },
    {
     "name": "stdout",
     "output_type": "stream",
     "text": [
      "==> Processed 80000 patients...\n"
     ]
    },
    {
     "name": "stderr",
     "output_type": "stream",
     "text": [
      "/var/folders/fj/qjbrwqhn6pg03zfft8ql94j80000gn/T/ipykernel_60282/570370552.py:30: FutureWarning: The frame.append method is deprecated and will be removed from pandas in a future version. Use pandas.concat instead.\n",
      "  merged = merged.append(timeseries_resp.loc[valid_resp_idx], sort=False)\n",
      "/var/folders/fj/qjbrwqhn6pg03zfft8ql94j80000gn/T/ipykernel_60282/570370552.py:31: FutureWarning: The frame.append method is deprecated and will be removed from pandas in a future version. Use pandas.concat instead.\n",
      "  merged = merged.append(timeseries_nurse.loc[valid_nurse_idx], sort=False)\n",
      "/var/folders/fj/qjbrwqhn6pg03zfft8ql94j80000gn/T/ipykernel_60282/570370552.py:32: FutureWarning: The frame.append method is deprecated and will be removed from pandas in a future version. Use pandas.concat instead.\n",
      "  merged = merged.append(timeseries_periodic.loc[valid_periodic_idx], sort=False)\n",
      "/var/folders/fj/qjbrwqhn6pg03zfft8ql94j80000gn/T/ipykernel_60282/570370552.py:33: FutureWarning: The frame.append method is deprecated and will be removed from pandas in a future version. Use pandas.concat instead.\n",
      "  merged = merged.append(timeseries_aperiodic.loc[valid_aperiodic_idx], sort=True)\n"
     ]
    },
    {
     "name": "stdout",
     "output_type": "stream",
     "text": [
      "==> Processed 84000 patients...\n"
     ]
    },
    {
     "name": "stderr",
     "output_type": "stream",
     "text": [
      "/var/folders/fj/qjbrwqhn6pg03zfft8ql94j80000gn/T/ipykernel_60282/570370552.py:30: FutureWarning: The frame.append method is deprecated and will be removed from pandas in a future version. Use pandas.concat instead.\n",
      "  merged = merged.append(timeseries_resp.loc[valid_resp_idx], sort=False)\n",
      "/var/folders/fj/qjbrwqhn6pg03zfft8ql94j80000gn/T/ipykernel_60282/570370552.py:31: FutureWarning: The frame.append method is deprecated and will be removed from pandas in a future version. Use pandas.concat instead.\n",
      "  merged = merged.append(timeseries_nurse.loc[valid_nurse_idx], sort=False)\n",
      "/var/folders/fj/qjbrwqhn6pg03zfft8ql94j80000gn/T/ipykernel_60282/570370552.py:32: FutureWarning: The frame.append method is deprecated and will be removed from pandas in a future version. Use pandas.concat instead.\n",
      "  merged = merged.append(timeseries_periodic.loc[valid_periodic_idx], sort=False)\n",
      "/var/folders/fj/qjbrwqhn6pg03zfft8ql94j80000gn/T/ipykernel_60282/570370552.py:33: FutureWarning: The frame.append method is deprecated and will be removed from pandas in a future version. Use pandas.concat instead.\n",
      "  merged = merged.append(timeseries_aperiodic.loc[valid_aperiodic_idx], sort=True)\n"
     ]
    },
    {
     "name": "stdout",
     "output_type": "stream",
     "text": [
      "==> Processed 88000 patients...\n"
     ]
    },
    {
     "name": "stderr",
     "output_type": "stream",
     "text": [
      "/var/folders/fj/qjbrwqhn6pg03zfft8ql94j80000gn/T/ipykernel_60282/570370552.py:30: FutureWarning: The frame.append method is deprecated and will be removed from pandas in a future version. Use pandas.concat instead.\n",
      "  merged = merged.append(timeseries_resp.loc[valid_resp_idx], sort=False)\n",
      "/var/folders/fj/qjbrwqhn6pg03zfft8ql94j80000gn/T/ipykernel_60282/570370552.py:31: FutureWarning: The frame.append method is deprecated and will be removed from pandas in a future version. Use pandas.concat instead.\n",
      "  merged = merged.append(timeseries_nurse.loc[valid_nurse_idx], sort=False)\n",
      "/var/folders/fj/qjbrwqhn6pg03zfft8ql94j80000gn/T/ipykernel_60282/570370552.py:32: FutureWarning: The frame.append method is deprecated and will be removed from pandas in a future version. Use pandas.concat instead.\n",
      "  merged = merged.append(timeseries_periodic.loc[valid_periodic_idx], sort=False)\n",
      "/var/folders/fj/qjbrwqhn6pg03zfft8ql94j80000gn/T/ipykernel_60282/570370552.py:33: FutureWarning: The frame.append method is deprecated and will be removed from pandas in a future version. Use pandas.concat instead.\n",
      "  merged = merged.append(timeseries_aperiodic.loc[valid_aperiodic_idx], sort=True)\n"
     ]
    },
    {
     "name": "stdout",
     "output_type": "stream",
     "text": [
      "==> Processed 92000 patients...\n"
     ]
    },
    {
     "name": "stderr",
     "output_type": "stream",
     "text": [
      "/var/folders/fj/qjbrwqhn6pg03zfft8ql94j80000gn/T/ipykernel_60282/570370552.py:30: FutureWarning: The frame.append method is deprecated and will be removed from pandas in a future version. Use pandas.concat instead.\n",
      "  merged = merged.append(timeseries_resp.loc[valid_resp_idx], sort=False)\n",
      "/var/folders/fj/qjbrwqhn6pg03zfft8ql94j80000gn/T/ipykernel_60282/570370552.py:31: FutureWarning: The frame.append method is deprecated and will be removed from pandas in a future version. Use pandas.concat instead.\n",
      "  merged = merged.append(timeseries_nurse.loc[valid_nurse_idx], sort=False)\n",
      "/var/folders/fj/qjbrwqhn6pg03zfft8ql94j80000gn/T/ipykernel_60282/570370552.py:32: FutureWarning: The frame.append method is deprecated and will be removed from pandas in a future version. Use pandas.concat instead.\n",
      "  merged = merged.append(timeseries_periodic.loc[valid_periodic_idx], sort=False)\n",
      "/var/folders/fj/qjbrwqhn6pg03zfft8ql94j80000gn/T/ipykernel_60282/570370552.py:33: FutureWarning: The frame.append method is deprecated and will be removed from pandas in a future version. Use pandas.concat instead.\n",
      "  merged = merged.append(timeseries_aperiodic.loc[valid_aperiodic_idx], sort=True)\n"
     ]
    },
    {
     "name": "stdout",
     "output_type": "stream",
     "text": [
      "==> Processed 96000 patients...\n"
     ]
    },
    {
     "name": "stderr",
     "output_type": "stream",
     "text": [
      "/var/folders/fj/qjbrwqhn6pg03zfft8ql94j80000gn/T/ipykernel_60282/570370552.py:30: FutureWarning: The frame.append method is deprecated and will be removed from pandas in a future version. Use pandas.concat instead.\n",
      "  merged = merged.append(timeseries_resp.loc[valid_resp_idx], sort=False)\n",
      "/var/folders/fj/qjbrwqhn6pg03zfft8ql94j80000gn/T/ipykernel_60282/570370552.py:31: FutureWarning: The frame.append method is deprecated and will be removed from pandas in a future version. Use pandas.concat instead.\n",
      "  merged = merged.append(timeseries_nurse.loc[valid_nurse_idx], sort=False)\n",
      "/var/folders/fj/qjbrwqhn6pg03zfft8ql94j80000gn/T/ipykernel_60282/570370552.py:32: FutureWarning: The frame.append method is deprecated and will be removed from pandas in a future version. Use pandas.concat instead.\n",
      "  merged = merged.append(timeseries_periodic.loc[valid_periodic_idx], sort=False)\n",
      "/var/folders/fj/qjbrwqhn6pg03zfft8ql94j80000gn/T/ipykernel_60282/570370552.py:33: FutureWarning: The frame.append method is deprecated and will be removed from pandas in a future version. Use pandas.concat instead.\n",
      "  merged = merged.append(timeseries_aperiodic.loc[valid_aperiodic_idx], sort=True)\n"
     ]
    },
    {
     "name": "stdout",
     "output_type": "stream",
     "text": [
      "==> Processed 100000 patients...\n"
     ]
    },
    {
     "name": "stderr",
     "output_type": "stream",
     "text": [
      "/var/folders/fj/qjbrwqhn6pg03zfft8ql94j80000gn/T/ipykernel_60282/570370552.py:30: FutureWarning: The frame.append method is deprecated and will be removed from pandas in a future version. Use pandas.concat instead.\n",
      "  merged = merged.append(timeseries_resp.loc[valid_resp_idx], sort=False)\n",
      "/var/folders/fj/qjbrwqhn6pg03zfft8ql94j80000gn/T/ipykernel_60282/570370552.py:31: FutureWarning: The frame.append method is deprecated and will be removed from pandas in a future version. Use pandas.concat instead.\n",
      "  merged = merged.append(timeseries_nurse.loc[valid_nurse_idx], sort=False)\n",
      "/var/folders/fj/qjbrwqhn6pg03zfft8ql94j80000gn/T/ipykernel_60282/570370552.py:32: FutureWarning: The frame.append method is deprecated and will be removed from pandas in a future version. Use pandas.concat instead.\n",
      "  merged = merged.append(timeseries_periodic.loc[valid_periodic_idx], sort=False)\n",
      "/var/folders/fj/qjbrwqhn6pg03zfft8ql94j80000gn/T/ipykernel_60282/570370552.py:33: FutureWarning: The frame.append method is deprecated and will be removed from pandas in a future version. Use pandas.concat instead.\n",
      "  merged = merged.append(timeseries_aperiodic.loc[valid_aperiodic_idx], sort=True)\n"
     ]
    },
    {
     "name": "stdout",
     "output_type": "stream",
     "text": [
      "==> Processed 104000 patients...\n"
     ]
    },
    {
     "name": "stderr",
     "output_type": "stream",
     "text": [
      "/var/folders/fj/qjbrwqhn6pg03zfft8ql94j80000gn/T/ipykernel_60282/570370552.py:30: FutureWarning: The frame.append method is deprecated and will be removed from pandas in a future version. Use pandas.concat instead.\n",
      "  merged = merged.append(timeseries_resp.loc[valid_resp_idx], sort=False)\n",
      "/var/folders/fj/qjbrwqhn6pg03zfft8ql94j80000gn/T/ipykernel_60282/570370552.py:31: FutureWarning: The frame.append method is deprecated and will be removed from pandas in a future version. Use pandas.concat instead.\n",
      "  merged = merged.append(timeseries_nurse.loc[valid_nurse_idx], sort=False)\n",
      "/var/folders/fj/qjbrwqhn6pg03zfft8ql94j80000gn/T/ipykernel_60282/570370552.py:32: FutureWarning: The frame.append method is deprecated and will be removed from pandas in a future version. Use pandas.concat instead.\n",
      "  merged = merged.append(timeseries_periodic.loc[valid_periodic_idx], sort=False)\n",
      "/var/folders/fj/qjbrwqhn6pg03zfft8ql94j80000gn/T/ipykernel_60282/570370552.py:33: FutureWarning: The frame.append method is deprecated and will be removed from pandas in a future version. Use pandas.concat instead.\n",
      "  merged = merged.append(timeseries_aperiodic.loc[valid_aperiodic_idx], sort=True)\n"
     ]
    },
    {
     "name": "stdout",
     "output_type": "stream",
     "text": [
      "==> Processed 108000 patients...\n"
     ]
    },
    {
     "name": "stderr",
     "output_type": "stream",
     "text": [
      "/var/folders/fj/qjbrwqhn6pg03zfft8ql94j80000gn/T/ipykernel_60282/570370552.py:30: FutureWarning: The frame.append method is deprecated and will be removed from pandas in a future version. Use pandas.concat instead.\n",
      "  merged = merged.append(timeseries_resp.loc[valid_resp_idx], sort=False)\n",
      "/var/folders/fj/qjbrwqhn6pg03zfft8ql94j80000gn/T/ipykernel_60282/570370552.py:31: FutureWarning: The frame.append method is deprecated and will be removed from pandas in a future version. Use pandas.concat instead.\n",
      "  merged = merged.append(timeseries_nurse.loc[valid_nurse_idx], sort=False)\n",
      "/var/folders/fj/qjbrwqhn6pg03zfft8ql94j80000gn/T/ipykernel_60282/570370552.py:32: FutureWarning: The frame.append method is deprecated and will be removed from pandas in a future version. Use pandas.concat instead.\n",
      "  merged = merged.append(timeseries_periodic.loc[valid_periodic_idx], sort=False)\n",
      "/var/folders/fj/qjbrwqhn6pg03zfft8ql94j80000gn/T/ipykernel_60282/570370552.py:33: FutureWarning: The frame.append method is deprecated and will be removed from pandas in a future version. Use pandas.concat instead.\n",
      "  merged = merged.append(timeseries_aperiodic.loc[valid_aperiodic_idx], sort=True)\n"
     ]
    },
    {
     "name": "stdout",
     "output_type": "stream",
     "text": [
      "==> Processed 112000 patients...\n"
     ]
    },
    {
     "name": "stderr",
     "output_type": "stream",
     "text": [
      "/var/folders/fj/qjbrwqhn6pg03zfft8ql94j80000gn/T/ipykernel_60282/570370552.py:30: FutureWarning: The frame.append method is deprecated and will be removed from pandas in a future version. Use pandas.concat instead.\n",
      "  merged = merged.append(timeseries_resp.loc[valid_resp_idx], sort=False)\n",
      "/var/folders/fj/qjbrwqhn6pg03zfft8ql94j80000gn/T/ipykernel_60282/570370552.py:31: FutureWarning: The frame.append method is deprecated and will be removed from pandas in a future version. Use pandas.concat instead.\n",
      "  merged = merged.append(timeseries_nurse.loc[valid_nurse_idx], sort=False)\n",
      "/var/folders/fj/qjbrwqhn6pg03zfft8ql94j80000gn/T/ipykernel_60282/570370552.py:32: FutureWarning: The frame.append method is deprecated and will be removed from pandas in a future version. Use pandas.concat instead.\n",
      "  merged = merged.append(timeseries_periodic.loc[valid_periodic_idx], sort=False)\n",
      "/var/folders/fj/qjbrwqhn6pg03zfft8ql94j80000gn/T/ipykernel_60282/570370552.py:33: FutureWarning: The frame.append method is deprecated and will be removed from pandas in a future version. Use pandas.concat instead.\n",
      "  merged = merged.append(timeseries_aperiodic.loc[valid_aperiodic_idx], sort=True)\n"
     ]
    },
    {
     "name": "stdout",
     "output_type": "stream",
     "text": [
      "==> Processed 116000 patients...\n"
     ]
    },
    {
     "name": "stderr",
     "output_type": "stream",
     "text": [
      "/var/folders/fj/qjbrwqhn6pg03zfft8ql94j80000gn/T/ipykernel_60282/570370552.py:30: FutureWarning: The frame.append method is deprecated and will be removed from pandas in a future version. Use pandas.concat instead.\n",
      "  merged = merged.append(timeseries_resp.loc[valid_resp_idx], sort=False)\n",
      "/var/folders/fj/qjbrwqhn6pg03zfft8ql94j80000gn/T/ipykernel_60282/570370552.py:31: FutureWarning: The frame.append method is deprecated and will be removed from pandas in a future version. Use pandas.concat instead.\n",
      "  merged = merged.append(timeseries_nurse.loc[valid_nurse_idx], sort=False)\n",
      "/var/folders/fj/qjbrwqhn6pg03zfft8ql94j80000gn/T/ipykernel_60282/570370552.py:32: FutureWarning: The frame.append method is deprecated and will be removed from pandas in a future version. Use pandas.concat instead.\n",
      "  merged = merged.append(timeseries_periodic.loc[valid_periodic_idx], sort=False)\n",
      "/var/folders/fj/qjbrwqhn6pg03zfft8ql94j80000gn/T/ipykernel_60282/570370552.py:33: FutureWarning: The frame.append method is deprecated and will be removed from pandas in a future version. Use pandas.concat instead.\n",
      "  merged = merged.append(timeseries_aperiodic.loc[valid_aperiodic_idx], sort=True)\n"
     ]
    },
    {
     "name": "stdout",
     "output_type": "stream",
     "text": [
      "==> Processed 120000 patients...\n"
     ]
    },
    {
     "name": "stderr",
     "output_type": "stream",
     "text": [
      "/var/folders/fj/qjbrwqhn6pg03zfft8ql94j80000gn/T/ipykernel_60282/570370552.py:30: FutureWarning: The frame.append method is deprecated and will be removed from pandas in a future version. Use pandas.concat instead.\n",
      "  merged = merged.append(timeseries_resp.loc[valid_resp_idx], sort=False)\n",
      "/var/folders/fj/qjbrwqhn6pg03zfft8ql94j80000gn/T/ipykernel_60282/570370552.py:31: FutureWarning: The frame.append method is deprecated and will be removed from pandas in a future version. Use pandas.concat instead.\n",
      "  merged = merged.append(timeseries_nurse.loc[valid_nurse_idx], sort=False)\n",
      "/var/folders/fj/qjbrwqhn6pg03zfft8ql94j80000gn/T/ipykernel_60282/570370552.py:32: FutureWarning: The frame.append method is deprecated and will be removed from pandas in a future version. Use pandas.concat instead.\n",
      "  merged = merged.append(timeseries_periodic.loc[valid_periodic_idx], sort=False)\n",
      "/var/folders/fj/qjbrwqhn6pg03zfft8ql94j80000gn/T/ipykernel_60282/570370552.py:33: FutureWarning: The frame.append method is deprecated and will be removed from pandas in a future version. Use pandas.concat instead.\n",
      "  merged = merged.append(timeseries_aperiodic.loc[valid_aperiodic_idx], sort=True)\n"
     ]
    },
    {
     "name": "stdout",
     "output_type": "stream",
     "text": [
      "==> Processed 124000 patients...\n"
     ]
    },
    {
     "name": "stderr",
     "output_type": "stream",
     "text": [
      "/var/folders/fj/qjbrwqhn6pg03zfft8ql94j80000gn/T/ipykernel_60282/570370552.py:30: FutureWarning: The frame.append method is deprecated and will be removed from pandas in a future version. Use pandas.concat instead.\n",
      "  merged = merged.append(timeseries_resp.loc[valid_resp_idx], sort=False)\n",
      "/var/folders/fj/qjbrwqhn6pg03zfft8ql94j80000gn/T/ipykernel_60282/570370552.py:31: FutureWarning: The frame.append method is deprecated and will be removed from pandas in a future version. Use pandas.concat instead.\n",
      "  merged = merged.append(timeseries_nurse.loc[valid_nurse_idx], sort=False)\n",
      "/var/folders/fj/qjbrwqhn6pg03zfft8ql94j80000gn/T/ipykernel_60282/570370552.py:32: FutureWarning: The frame.append method is deprecated and will be removed from pandas in a future version. Use pandas.concat instead.\n",
      "  merged = merged.append(timeseries_periodic.loc[valid_periodic_idx], sort=False)\n",
      "/var/folders/fj/qjbrwqhn6pg03zfft8ql94j80000gn/T/ipykernel_60282/570370552.py:33: FutureWarning: The frame.append method is deprecated and will be removed from pandas in a future version. Use pandas.concat instead.\n",
      "  merged = merged.append(timeseries_aperiodic.loc[valid_aperiodic_idx], sort=True)\n"
     ]
    },
    {
     "name": "stdout",
     "output_type": "stream",
     "text": [
      "==> Processed 128000 patients...\n"
     ]
    },
    {
     "name": "stderr",
     "output_type": "stream",
     "text": [
      "/var/folders/fj/qjbrwqhn6pg03zfft8ql94j80000gn/T/ipykernel_60282/570370552.py:30: FutureWarning: The frame.append method is deprecated and will be removed from pandas in a future version. Use pandas.concat instead.\n",
      "  merged = merged.append(timeseries_resp.loc[valid_resp_idx], sort=False)\n",
      "/var/folders/fj/qjbrwqhn6pg03zfft8ql94j80000gn/T/ipykernel_60282/570370552.py:31: FutureWarning: The frame.append method is deprecated and will be removed from pandas in a future version. Use pandas.concat instead.\n",
      "  merged = merged.append(timeseries_nurse.loc[valid_nurse_idx], sort=False)\n",
      "/var/folders/fj/qjbrwqhn6pg03zfft8ql94j80000gn/T/ipykernel_60282/570370552.py:32: FutureWarning: The frame.append method is deprecated and will be removed from pandas in a future version. Use pandas.concat instead.\n",
      "  merged = merged.append(timeseries_periodic.loc[valid_periodic_idx], sort=False)\n",
      "/var/folders/fj/qjbrwqhn6pg03zfft8ql94j80000gn/T/ipykernel_60282/570370552.py:33: FutureWarning: The frame.append method is deprecated and will be removed from pandas in a future version. Use pandas.concat instead.\n",
      "  merged = merged.append(timeseries_aperiodic.loc[valid_aperiodic_idx], sort=True)\n"
     ]
    },
    {
     "name": "stdout",
     "output_type": "stream",
     "text": [
      "==> Processed 132000 patients...\n"
     ]
    },
    {
     "name": "stderr",
     "output_type": "stream",
     "text": [
      "/var/folders/fj/qjbrwqhn6pg03zfft8ql94j80000gn/T/ipykernel_60282/570370552.py:30: FutureWarning: The frame.append method is deprecated and will be removed from pandas in a future version. Use pandas.concat instead.\n",
      "  merged = merged.append(timeseries_resp.loc[valid_resp_idx], sort=False)\n",
      "/var/folders/fj/qjbrwqhn6pg03zfft8ql94j80000gn/T/ipykernel_60282/570370552.py:31: FutureWarning: The frame.append method is deprecated and will be removed from pandas in a future version. Use pandas.concat instead.\n",
      "  merged = merged.append(timeseries_nurse.loc[valid_nurse_idx], sort=False)\n",
      "/var/folders/fj/qjbrwqhn6pg03zfft8ql94j80000gn/T/ipykernel_60282/570370552.py:32: FutureWarning: The frame.append method is deprecated and will be removed from pandas in a future version. Use pandas.concat instead.\n",
      "  merged = merged.append(timeseries_periodic.loc[valid_periodic_idx], sort=False)\n",
      "/var/folders/fj/qjbrwqhn6pg03zfft8ql94j80000gn/T/ipykernel_60282/570370552.py:33: FutureWarning: The frame.append method is deprecated and will be removed from pandas in a future version. Use pandas.concat instead.\n",
      "  merged = merged.append(timeseries_aperiodic.loc[valid_aperiodic_idx], sort=True)\n"
     ]
    },
    {
     "name": "stdout",
     "output_type": "stream",
     "text": [
      "==> Processed 136000 patients...\n"
     ]
    },
    {
     "name": "stderr",
     "output_type": "stream",
     "text": [
      "/var/folders/fj/qjbrwqhn6pg03zfft8ql94j80000gn/T/ipykernel_60282/570370552.py:30: FutureWarning: The frame.append method is deprecated and will be removed from pandas in a future version. Use pandas.concat instead.\n",
      "  merged = merged.append(timeseries_resp.loc[valid_resp_idx], sort=False)\n",
      "/var/folders/fj/qjbrwqhn6pg03zfft8ql94j80000gn/T/ipykernel_60282/570370552.py:31: FutureWarning: The frame.append method is deprecated and will be removed from pandas in a future version. Use pandas.concat instead.\n",
      "  merged = merged.append(timeseries_nurse.loc[valid_nurse_idx], sort=False)\n",
      "/var/folders/fj/qjbrwqhn6pg03zfft8ql94j80000gn/T/ipykernel_60282/570370552.py:32: FutureWarning: The frame.append method is deprecated and will be removed from pandas in a future version. Use pandas.concat instead.\n",
      "  merged = merged.append(timeseries_periodic.loc[valid_periodic_idx], sort=False)\n",
      "/var/folders/fj/qjbrwqhn6pg03zfft8ql94j80000gn/T/ipykernel_60282/570370552.py:33: FutureWarning: The frame.append method is deprecated and will be removed from pandas in a future version. Use pandas.concat instead.\n",
      "  merged = merged.append(timeseries_aperiodic.loc[valid_aperiodic_idx], sort=True)\n"
     ]
    },
    {
     "name": "stdout",
     "output_type": "stream",
     "text": [
      "==> Processed 140000 patients...\n"
     ]
    },
    {
     "name": "stderr",
     "output_type": "stream",
     "text": [
      "/var/folders/fj/qjbrwqhn6pg03zfft8ql94j80000gn/T/ipykernel_60282/570370552.py:30: FutureWarning: The frame.append method is deprecated and will be removed from pandas in a future version. Use pandas.concat instead.\n",
      "  merged = merged.append(timeseries_resp.loc[valid_resp_idx], sort=False)\n",
      "/var/folders/fj/qjbrwqhn6pg03zfft8ql94j80000gn/T/ipykernel_60282/570370552.py:31: FutureWarning: The frame.append method is deprecated and will be removed from pandas in a future version. Use pandas.concat instead.\n",
      "  merged = merged.append(timeseries_nurse.loc[valid_nurse_idx], sort=False)\n",
      "/var/folders/fj/qjbrwqhn6pg03zfft8ql94j80000gn/T/ipykernel_60282/570370552.py:32: FutureWarning: The frame.append method is deprecated and will be removed from pandas in a future version. Use pandas.concat instead.\n",
      "  merged = merged.append(timeseries_periodic.loc[valid_periodic_idx], sort=False)\n",
      "/var/folders/fj/qjbrwqhn6pg03zfft8ql94j80000gn/T/ipykernel_60282/570370552.py:33: FutureWarning: The frame.append method is deprecated and will be removed from pandas in a future version. Use pandas.concat instead.\n",
      "  merged = merged.append(timeseries_aperiodic.loc[valid_aperiodic_idx], sort=True)\n"
     ]
    },
    {
     "name": "stdout",
     "output_type": "stream",
     "text": [
      "==> Processed 144000 patients...\n"
     ]
    },
    {
     "name": "stderr",
     "output_type": "stream",
     "text": [
      "/var/folders/fj/qjbrwqhn6pg03zfft8ql94j80000gn/T/ipykernel_60282/570370552.py:30: FutureWarning: The frame.append method is deprecated and will be removed from pandas in a future version. Use pandas.concat instead.\n",
      "  merged = merged.append(timeseries_resp.loc[valid_resp_idx], sort=False)\n",
      "/var/folders/fj/qjbrwqhn6pg03zfft8ql94j80000gn/T/ipykernel_60282/570370552.py:31: FutureWarning: The frame.append method is deprecated and will be removed from pandas in a future version. Use pandas.concat instead.\n",
      "  merged = merged.append(timeseries_nurse.loc[valid_nurse_idx], sort=False)\n",
      "/var/folders/fj/qjbrwqhn6pg03zfft8ql94j80000gn/T/ipykernel_60282/570370552.py:32: FutureWarning: The frame.append method is deprecated and will be removed from pandas in a future version. Use pandas.concat instead.\n",
      "  merged = merged.append(timeseries_periodic.loc[valid_periodic_idx], sort=False)\n",
      "/var/folders/fj/qjbrwqhn6pg03zfft8ql94j80000gn/T/ipykernel_60282/570370552.py:33: FutureWarning: The frame.append method is deprecated and will be removed from pandas in a future version. Use pandas.concat instead.\n",
      "  merged = merged.append(timeseries_aperiodic.loc[valid_aperiodic_idx], sort=True)\n"
     ]
    },
    {
     "name": "stdout",
     "output_type": "stream",
     "text": [
      "==> Processed 148000 patients...\n"
     ]
    }
   ],
   "source": [
    "print('==> Starting main processing loop...')\n",
    "\n",
    "for patient_chunk in gen_chunks:\n",
    "    # Helper: filter by MultiIndex level\n",
    "    def get_valid_ids(df, ids, level=0):\n",
    "        valid_ids = df.index.get_level_values(level).unique().intersection(ids)\n",
    "        return df.index[df.index.get_level_values(level).isin(valid_ids)]\n",
    "\n",
    "    # Get valid indices\n",
    "    valid_lab_idx = get_valid_ids(timeseries_lab, patient_chunk)\n",
    "    valid_resp_idx = get_valid_ids(timeseries_resp, patient_chunk)\n",
    "    valid_nurse_idx = get_valid_ids(timeseries_nurse, patient_chunk)\n",
    "    valid_periodic_idx = get_valid_ids(timeseries_periodic, patient_chunk)\n",
    "    valid_aperiodic_idx = get_valid_ids(timeseries_aperiodic, patient_chunk)\n",
    "\n",
    "    # Get missing IDs\n",
    "    found_ids = (\n",
    "        set(timeseries_lab.index.get_level_values(0).unique())\n",
    "        | set(timeseries_resp.index.get_level_values(0).unique())\n",
    "        | set(timeseries_nurse.index.get_level_values(0).unique())\n",
    "        | set(timeseries_periodic.index.get_level_values(0).unique())\n",
    "        | set(timeseries_aperiodic.index.get_level_values(0).unique())\n",
    "    )\n",
    "    missing_ids = set(patient_chunk) - found_ids\n",
    "    if missing_ids:\n",
    "        print(\"Warning: Missing patient IDs:\", missing_ids)\n",
    "\n",
    "    # Append using safe MultiIndex filters\n",
    "    merged = timeseries_lab.loc[valid_lab_idx]\n",
    "    merged = merged.append(timeseries_resp.loc[valid_resp_idx], sort=False)\n",
    "    merged = merged.append(timeseries_nurse.loc[valid_nurse_idx], sort=False)\n",
    "    merged = merged.append(timeseries_periodic.loc[valid_periodic_idx], sort=False)\n",
    "    merged = merged.append(timeseries_aperiodic.loc[valid_aperiodic_idx], sort=True)\n",
    "\n",
    "    if i == size:  # fixed from first run\n",
    "        # all if not all are not normally distributed\n",
    "        quantiles = merged.quantile([0.05, 0.95])\n",
    "        maxs = quantiles.loc[0.95]\n",
    "        mins = quantiles.loc[0.05]\n",
    "\n",
    "    merged = 2 * (merged - mins) / (maxs - mins) - 1\n",
    "\n",
    "    # we then need to make sure that ridiculous outliers are clipped to something sensible\n",
    "    merged.clip(lower=-4, upper=4, inplace=True)  # room for +- 3 on each side, as variables are scaled roughly between 0 and 1\n",
    "\n",
    "    resample_and_mask(merged, eICU_path, header, mask_decay=True, decay_rate=4/3, test=test, verbose=False)\n",
    "    print('==> Processed ' + str(i) + ' patients...')\n",
    "    i += size\n",
    "    header = False"
   ]
  },
  {
   "cell_type": "code",
   "execution_count": 11,
   "id": "20098737",
   "metadata": {},
   "outputs": [
    {
     "name": "stdout",
     "output_type": "stream",
     "text": [
      "==> Adding time of day features...\n",
      "==> Saving finalised preprocessed timeseries...\n"
     ]
    }
   ],
   "source": [
    "further_processing('', False)"
   ]
  },
  {
   "cell_type": "code",
   "execution_count": null,
   "id": "55a1a69b",
   "metadata": {},
   "outputs": [],
   "source": []
  }
 ],
 "metadata": {
  "kernelspec": {
   "display_name": "Python 3 (ipykernel)",
   "language": "python",
   "name": "python3"
  },
  "language_info": {
   "codemirror_mode": {
    "name": "ipython",
    "version": 3
   },
   "file_extension": ".py",
   "mimetype": "text/x-python",
   "name": "python",
   "nbconvert_exporter": "python",
   "pygments_lexer": "ipython3",
   "version": "3.9.12"
  }
 },
 "nbformat": 4,
 "nbformat_minor": 5
}
